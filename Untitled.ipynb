{
 "cells": [
  {
   "cell_type": "markdown",
   "metadata": {},
   "source": [
    "<b><center><font size=12>Allegro, recruitement task</center><b>"
   ]
  },
  {
   "cell_type": "code",
   "execution_count": 260,
   "metadata": {},
   "outputs": [],
   "source": [
    "import collections\n",
    "import json\n",
    "import os\n",
    "\n",
    "import pandas as pd \n",
    "import numpy as np\n",
    "\n",
    "import matplotlib.pyplot as plt   \n",
    "import seaborn as sns\n",
    "\n",
    "pd.options.display.max_rows = 20"
   ]
  },
  {
   "cell_type": "markdown",
   "metadata": {},
   "source": [
    "<b>Preprocessing:<b>"
   ]
  },
  {
   "cell_type": "code",
   "execution_count": 176,
   "metadata": {},
   "outputs": [],
   "source": [
    "# Constans \n",
    "DATA_PATH = 'public-dataset.json'"
   ]
  },
  {
   "cell_type": "code",
   "execution_count": 177,
   "metadata": {},
   "outputs": [],
   "source": [
    "with open(DATA_PATH) as json_file: \n",
    "    dataset = json.load(json_file)\n",
    "df = pd.DataFrame.from_dict(dataset)"
   ]
  },
  {
   "cell_type": "markdown",
   "metadata": {},
   "source": [
    "My first step will be general data overview: checking which features in dataset may come to be useful, looking at their data types and if these features are either categorical or real valued.\n",
    "\n",
    "Next I'm going to take a closer look at how many values each of discrete variables can take in order to further think about their representation in the model. \n",
    "\n",
    "I'm going to plot few "
   ]
  },
  {
   "cell_type": "markdown",
   "metadata": {},
   "source": [
    "buynow_price - float <br>\n",
    "rodzaj karty graficznej - binary <br>\n",
    "rozdzielczosc piksele - float, 2 \"inna\" <br>\n",
    "liczba rdzeni procesora - \"nie dotyczy\" 87, float <br>\n",
    "wielkość pamięci ram - \"256 mb\"<br>\n",
    "system operacyjny - one-hot<br>\n",
    "typ dysku twardego - one-hot, exclusive<br>\n",
    "sterowanie - one-hot<br>\n",
    "multimedia - one-hot<br>\n",
    "typ pamięci ram - one-hot, exclusive<br>\n",
    "taktowanie bazowe procesora - float<br>\n",
    "seria procesora - one-hot, exclusive<br>\n",
    "stan - one value<br>\n",
    "pojemność dysku - float<br>\n",
    "gwarancja - one-hot, exclusive<br>\n",
    "wielkość matrycy -  one-hot, exclusive<br>\n",
    "\n",
    "\n"
   ]
  },
  {
   "cell_type": "code",
   "execution_count": 178,
   "metadata": {},
   "outputs": [],
   "source": [
    "# def get_unique_values_dict(column): \n",
    "#     unique_values_list = column.apply(pd.Series).stack().unique().tolist()\n",
    "#     unique_values_dict = {value: index for index, value in enumerate(unique_values_list)}\n",
    "#     return unique_values_dict\n",
    "    \n",
    "# def create_one_hot_representation(values, unique_values_dict):\n",
    "#     one_hot = len(unique_values_dict) * [0]\n",
    "#     for value in values:\n",
    "#         one_hot[unique_values_dict[value]] = 1\n",
    "#     return one_hot    \n",
    "\n",
    "# multilabel_columns = ['system operacyjny', 'sterowanie', 'multimedia', 'komunikacja']\n",
    "\n",
    "# for column in multilabel_columns: \n",
    "#     unique_values_dict = get_unique_values_dict(df[column])\n",
    "#     df[column] = df[column].apply(lambda d: d if isinstance(d, list) else [])  # fill NaN values with empty lists\n",
    "#     df[column] = df[column].apply(lambda row: create_one_hot_representation(row, unique_values_dict))"
   ]
  },
  {
   "cell_type": "code",
   "execution_count": null,
   "metadata": {},
   "outputs": [],
   "source": [
    "def preprocess(dataframe):\n",
    "    \n",
    "    multilabel_columns = ['system operacyjny', 'sterowanie', 'multimedia', 'komunikacja']\n",
    "\n",
    "    for column in multilabel_columns: \n",
    "        tags = df[column].apply(pd.Series)\n",
    "        tags = tags.rename(columns = lambda x : 'tag ' + column + ' ' + str(x))\n",
    "        df = pd.concat([df[:], tags[:]], axis=1)\n",
    "        df = df.drop(column, axis=1)\n",
    "\n",
    "    def convert_to_bytes(memory_capacity): \n",
    "        prefix_dict = {'mb': 1000000, 'gb': 1000000000}\n",
    "        try:\n",
    "            memory, prefix = memory_capacity.split()\n",
    "        except ValueError:\n",
    "            print(memory_capacity)\n",
    "        return int(memory) * prefix_dict[prefix]\n",
    "\n",
    "    df['wielkość pamięci ram'] = df['wielkość pamięci ram'].fillna('0 gb')\n",
    "    df['wielkość pamięci ram'] = df['wielkość pamięci ram'].apply(lambda row: convert_to_bytes(row))\n",
    "\n",
    "    def get_pixels_number(resolution): \n",
    "        try:\n",
    "            width, _, heigth = resolution.split()\n",
    "        except ValueError:\n",
    "            print(resolution)\n",
    "        return int(width) * int(heigth)\n",
    "\n",
    "    df['rozdzielczość (piksele)'] = df['rozdzielczość (piksele)'].fillna('inna')\n",
    "    df.loc[df['rozdzielczość (piksele)'] == 'inna', 'rozdzielczość (piksele)'] = '0 x 0'\n",
    "    df['rozdzielczość (piksele)'] = df['rozdzielczość (piksele)'].apply(lambda row: get_pixels_number(row))\n",
    "\n",
    "    df.loc[df['liczba rdzeni procesora'] == 'nie dotyczy', 'liczba rdzeni procesora'] = 0\n",
    "\n",
    "    numerical_columns = ['liczba rdzeni procesora', 'taktowanie bazowe procesora (ghz)', 'pojemność dysku (gb)', \n",
    "                         'rozdzielczość (piksele)', 'wielkość pamięci ram']\n",
    "    df[numerical_columns] = df[numerical_columns].astype(np.float64)\n",
    "    # Replace NaNs with mean value: \n",
    "    for column in numerical_columns: \n",
    "        df[column] = df[column].fillna(0.0)\n",
    "        df[column] = df[column].mask(df[column] == 0.0, df[column].mean())\n",
    "\n",
    "    categorical_columns = df.select_dtypes(include=[\"object\"]).columns\n",
    "    df = pd.get_dummies(df, columns=categorical_columns, dtype=np.float64)\n",
    "    \n",
    "    return df"
   ]
  },
  {
   "cell_type": "code",
   "execution_count": null,
   "metadata": {},
   "outputs": [],
   "source": [
    "def convert_to_bytes(memory_capacity): \n",
    "    prefix_dict = {'mb': 1000000, 'gb': 1000000000}\n",
    "    try:\n",
    "        memory, prefix = memory_capacity.split()\n",
    "    except ValueError:\n",
    "        print(memory_capacity)\n",
    "    return int(memory) * prefix_dict[prefix]\n",
    "\n",
    "df['wielkość pamięci ram'] = df['wielkość pamięci ram'].fillna('0 gb')\n",
    "df['wielkość pamięci ram'] = df['wielkość pamięci ram'].apply(lambda row: convert_to_bytes(row))"
   ]
  },
  {
   "cell_type": "code",
   "execution_count": null,
   "metadata": {},
   "outputs": [],
   "source": [
    "def get_pixels_number(resolution): \n",
    "    try:\n",
    "        width, _, heigth = resolution.split()\n",
    "    except ValueError:\n",
    "        print(resolution)\n",
    "    return int(width) * int(heigth)\n",
    "\n",
    "df['rozdzielczość (piksele)'] = df['rozdzielczość (piksele)'].fillna('inna')\n",
    "df.loc[df['rozdzielczość (piksele)'] == 'inna', 'rozdzielczość (piksele)'] = '0 x 0'\n",
    "df['rozdzielczość (piksele)'] = df['rozdzielczość (piksele)'].apply(lambda row: get_pixels_number(row))"
   ]
  },
  {
   "cell_type": "code",
   "execution_count": null,
   "metadata": {},
   "outputs": [],
   "source": [
    "df.loc[df['liczba rdzeni procesora'] == 'nie dotyczy', 'liczba rdzeni procesora'] = 0"
   ]
  },
  {
   "cell_type": "code",
   "execution_count": null,
   "metadata": {},
   "outputs": [],
   "source": [
    "numerical_columns = ['liczba rdzeni procesora', 'taktowanie bazowe procesora (ghz)', 'pojemność dysku (gb)', \n",
    "                     'rozdzielczość (piksele)', 'wielkość pamięci ram']\n",
    "df[numerical_columns] = df[numerical_columns].astype(np.float64)\n",
    "# Replace NaNs with mean value: \n",
    "for column in numerical_columns: \n",
    "    df[column] = df[column].fillna(0.0)\n",
    "    df[column] = df[column].mask(df[column] == 0.0, df[column].mean())"
   ]
  },
  {
   "cell_type": "code",
   "execution_count": null,
   "metadata": {},
   "outputs": [],
   "source": [
    "categorical_columns = df.select_dtypes(include=[\"object\"]).columns\n",
    "df = pd.get_dummies(df, columns=categorical_columns, dtype=np.float64)"
   ]
  },
  {
   "cell_type": "code",
   "execution_count": 200,
   "metadata": {},
   "outputs": [],
   "source": [
    "X, y = df.drop('buynow_price', axis=1).values, df['buynow_price'].astype(np.float64).values"
   ]
  },
  {
   "cell_type": "code",
   "execution_count": 201,
   "metadata": {},
   "outputs": [],
   "source": [
    "from sklearn.preprocessing import MinMaxScaler\n",
    "\n",
    "scaler = MinMaxScaler()\n",
    "\n",
    "X = scaler.fit_transform(X)"
   ]
  },
  {
   "cell_type": "code",
   "execution_count": 203,
   "metadata": {},
   "outputs": [],
   "source": [
    "split = int(0.8 * X.shape[0])\n",
    "X_train, X_test = X[:split], X[split:]\n",
    "y_train, y_test = y[:split], y[split:]"
   ]
  },
  {
   "cell_type": "code",
   "execution_count": 282,
   "metadata": {},
   "outputs": [],
   "source": [
    "from sklearn.linear_model import LinearRegression, LassoCV, RidgeCV,  ElasticNetCV\n",
    "from sklearn.ensemble import GradientBoostingRegressor\n",
    "from sklearn.metrics import mean_squared_error\n",
    "import xgboost as xgb"
   ]
  },
  {
   "cell_type": "code",
   "execution_count": 276,
   "metadata": {},
   "outputs": [],
   "source": [
    "lreg = LinearRegression(normalize=True)\n",
    "\n",
    "lreg.fit(X_train,y_train)\n",
    "lreg_predictions = lreg.predict(X_test)\n",
    "lreg_score = lreg.score(X_test, y_test)\n",
    "lreg_coef = lreg.coef_\n",
    "lreg_mse = mean_squared_error(lreg_predictions, y_test)"
   ]
  },
  {
   "cell_type": "code",
   "execution_count": 277,
   "metadata": {},
   "outputs": [],
   "source": [
    "lasso = LassoCV(cv=5, normalize=True)\n",
    "\n",
    "lasso.fit(X_train, y_train)\n",
    "lasso_predictions = lasso.predict(X_test)\n",
    "lasso_score = lasso.score(X_test, y_test)\n",
    "lasso_coef = lasso.coef_\n",
    "lasso_mse = mean_squared_error(lasso_predictions, y_test)"
   ]
  },
  {
   "cell_type": "code",
   "execution_count": 278,
   "metadata": {},
   "outputs": [],
   "source": [
    "ridge = RidgeCV(cv=5, normalize=True)\n",
    "\n",
    "ridge.fit(X_train, y_train)\n",
    "ridge_predictions = ridge.predict(X_test)\n",
    "ridge_score = ridge.score(X_test, y_test)\n",
    "ridge_coef = ridge.coef_\n",
    "ridge_mse = mean_squared_error(ridge_predictions, y_test)"
   ]
  },
  {
   "cell_type": "code",
   "execution_count": 294,
   "metadata": {},
   "outputs": [],
   "source": [
    "elastic = ElasticNetCV(cv=5, normalize=True)\n",
    "\n",
    "elastic.fit(X_train,y_train)\n",
    "elastic_predictions = elastic.predict(X_test)\n",
    "elastic_score = elastic.score(X_test, y_test)\n",
    "elastic_coef = elastic.coef_\n",
    "elastic_mse = mean_squared_error(elastic_predictions, y_test)"
   ]
  },
  {
   "cell_type": "code",
   "execution_count": 283,
   "metadata": {},
   "outputs": [],
   "source": [
    "GBR = GradientBoostingRegressor(n_estimators=100, max_depth=4)\n",
    "\n",
    "GBR.fit(X_train,y_train)\n",
    "GBR_predictions = GBR.predict(X_test)\n",
    "GBR_score = GBR.score(X_test, y_test)\n",
    "GBR_mse = mean_squared_error(GBR_predictions, y_test)"
   ]
  },
  {
   "cell_type": "code",
   "execution_count": 295,
   "metadata": {},
   "outputs": [],
   "source": [
    "scores_df = pd.DataFrame.from_dict({\n",
    "    'MSE': [lreg_mse, lasso_mse, ridge_mse, elastic_mse, GBR_mse],\n",
    "    'R^2': [lreg_score, lasso_score, ridge_score, elastic_score, GBR_score]\n",
    "}, orient='index', columns=['lreg', 'lasso', 'ridge', 'elastic', 'GBR'])"
   ]
  },
  {
   "cell_type": "code",
   "execution_count": 296,
   "metadata": {},
   "outputs": [
    {
     "data": {
      "text/html": [
       "<div>\n",
       "<style scoped>\n",
       "    .dataframe tbody tr th:only-of-type {\n",
       "        vertical-align: middle;\n",
       "    }\n",
       "\n",
       "    .dataframe tbody tr th {\n",
       "        vertical-align: top;\n",
       "    }\n",
       "\n",
       "    .dataframe thead th {\n",
       "        text-align: right;\n",
       "    }\n",
       "</style>\n",
       "<table border=\"1\" class=\"dataframe\">\n",
       "  <thead>\n",
       "    <tr style=\"text-align: right;\">\n",
       "      <th></th>\n",
       "      <th>lreg</th>\n",
       "      <th>lasso</th>\n",
       "      <th>ridge</th>\n",
       "      <th>elastic</th>\n",
       "      <th>GBR</th>\n",
       "    </tr>\n",
       "  </thead>\n",
       "  <tbody>\n",
       "    <tr>\n",
       "      <th>MSE</th>\n",
       "      <td>3.041954e+29</td>\n",
       "      <td>791698.469094</td>\n",
       "      <td>799408.136296</td>\n",
       "      <td>2.803098e+06</td>\n",
       "      <td>411082.755655</td>\n",
       "    </tr>\n",
       "    <tr>\n",
       "      <th>R^2</th>\n",
       "      <td>-9.913680e+22</td>\n",
       "      <td>0.741987</td>\n",
       "      <td>0.739474</td>\n",
       "      <td>8.647500e-02</td>\n",
       "      <td>0.866029</td>\n",
       "    </tr>\n",
       "  </tbody>\n",
       "</table>\n",
       "</div>"
      ],
      "text/plain": [
       "             lreg          lasso          ridge       elastic            GBR\n",
       "MSE  3.041954e+29  791698.469094  799408.136296  2.803098e+06  411082.755655\n",
       "R^2 -9.913680e+22       0.741987       0.739474  8.647500e-02       0.866029"
      ]
     },
     "execution_count": 296,
     "metadata": {},
     "output_type": "execute_result"
    }
   ],
   "source": [
    "scores_df"
   ]
  },
  {
   "cell_type": "code",
   "execution_count": 297,
   "metadata": {},
   "outputs": [
    {
     "data": {
      "text/plain": [
       "(1571,)"
      ]
     },
     "execution_count": 297,
     "metadata": {},
     "output_type": "execute_result"
    }
   ],
   "source": []
  },
  {
   "cell_type": "code",
   "execution_count": 275,
   "metadata": {},
   "outputs": [
    {
     "data": {
      "text/plain": [
       "<matplotlib.axes._subplots.AxesSubplot at 0x335119b0>"
      ]
     },
     "execution_count": 275,
     "metadata": {},
     "output_type": "execute_result"
    },
    {
     "data": {
      "image/png": "[encoded data removed]",
      "text/plain": [
       "<Figure size 432x288 with 1 Axes>"
      ]
     },
     "metadata": {
      "needs_background": "light"
     },
     "output_type": "display_data"
    }
   ],
   "source": [
    "predictions_df.plot(x='GBR value', y='real value', kind='scatter')"
   ]
  }
 ],
 "metadata": {
  "kernelspec": {
   "display_name": "Python 3",
   "language": "python",
   "name": "python3"
  },
  "language_info": {
   "codemirror_mode": {
    "name": "ipython",
    "version": 3
   },
   "file_extension": ".py",
   "mimetype": "text/x-python",
   "name": "python",
   "nbconvert_exporter": "python",
   "pygments_lexer": "ipython3",
   "version": "3.7.1"
  }
 },
 "nbformat": 4,
 "nbformat_minor": 2
}
