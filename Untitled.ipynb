{
 "cells": [
  {
   "cell_type": "markdown",
   "metadata": {},
   "source": [
    "<b><center><font size=12>Allegro, recruitement task</center><b>"
   ]
  },
  {
   "cell_type": "code",
   "execution_count": 59,
   "metadata": {},
   "outputs": [],
   "source": [
    "import collections\n",
    "import json\n",
    "import math\n",
    "import os\n",
    "\n",
    "import pandas as pd \n",
    "import numpy as np\n",
    "\n",
    "import matplotlib.pyplot as plt   \n",
    "import seaborn as sns\n",
    "\n",
    "pd.options.display.max_rows = 20"
   ]
  },
  {
   "cell_type": "markdown",
   "metadata": {},
   "source": [
    "<b>Preprocessing:<b>"
   ]
  },
  {
   "cell_type": "code",
   "execution_count": 31,
   "metadata": {},
   "outputs": [],
   "source": [
    "# Constants \n",
    "DATA_PATH = 'public-dataset.json'"
   ]
  },
  {
   "cell_type": "code",
   "execution_count": 43,
   "metadata": {},
   "outputs": [],
   "source": [
    "with open(DATA_PATH) as json_file: \n",
    "    dataset = json.load(json_file)\n",
    "df = pd.DataFrame.from_dict(dataset)"
   ]
  },
  {
   "cell_type": "markdown",
   "metadata": {},
   "source": [
    "My first step will be general data overview: checking which features in dataset may come to be useful, looking at their data types and if these features are either categorical or real valued, checking for NaN values.\n",
    "\n",
    "Next I'm going to take a closer look at how many values each of discrete variables can take in order to further think about their representation in the model. \n",
    "\n",
    "I'm going to plot variables distributions (for example to check if they are normaly distributed, if normalization is needed etc.)\n",
    "\n",
    "Most of these steps are rather boring and listing full summary would take way to much space, so I'm not going to include them in this presentation. Instead I'm going to describe my preliminary conclusions in next entry. "
   ]
  },
  {
   "cell_type": "code",
   "execution_count": 34,
   "metadata": {},
   "outputs": [
    {
     "data": {
      "text/plain": [
       "<matplotlib.axes._subplots.AxesSubplot at 0x7fc0e0269710>"
      ]
     },
     "execution_count": 34,
     "metadata": {},
     "output_type": "execute_result"
    },
    {
     "data": {
      "image/png": "[encoded data removed]",
      "text/plain": [
       "<Figure size 432x288 with 1 Axes>"
      ]
     },
     "metadata": {
      "needs_background": "light"
     },
     "output_type": "display_data"
    }
   ],
   "source": [
    "sns.distplot(df['buynow_price'].astype(float))"
   ]
  },
  {
   "cell_type": "markdown",
   "metadata": {},
   "source": [
    "Data is right skewed, which may later on pose some problems (eg. big outliers error)"
   ]
  },
  {
   "cell_type": "markdown",
   "metadata": {},
   "source": [
    "After data inspections I can divide features into following categories: <br> <br>\n",
    "<b>1. numerical data (either ints or floats, real valued data)\n",
    "2. categorical data:<br>\n",
    "  2a. single label data (tags that may be represented as single label one-hot vectors)<br>\n",
    "  2b. multilabel data (lists in dataframe, one-hot vectors which have more than one \"1\" value)<br>\n",
    "3. special cases (categorical data which can be represented as real valued after some tweaks<br></b>\n",
    "                                                                 \n",
    "Some values are underrepresented (only a couple of occurences in entire dataset). I can approach this problem in two ways: either drop them entirely or trust that regularization and feature selection aspects of models I'm going to be using will help me deal with bloated feature space and possible overfitting to outliers. I'm currently opting for the second solution, but I may revisit this step later on.\n",
    "\n",
    "Next issue is NaN values representation: I can either drop entries with NaN values, which I don't want to do since dataset is already small. I can use most occuring value, but I risk overrepresentation of some feature and unbalanced dataset. I'm going to fill NaNs with mean values for now, noting, as previously, that I may revisit this.\n",
    "\n",
    "Below is the code with comments further explaining my approach to particular variables:"
   ]
  },
  {
   "cell_type": "code",
   "execution_count": 38,
   "metadata": {
    "collapsed": true
   },
   "outputs": [
    {
     "data": {
      "text/plain": [
       "\"This approach (encoding  multilabel as one-hots directly in dataframe) was dropped due to need of flattening features\\n   after preprocessing (which made code unnecessarily long) and, which is more important, due to lack of tracking which\\n   model coefficient is connected to which feature name. I'm not deleting the code since task description specified to\\n   leave even finaly unused solutions :) \""
      ]
     },
     "execution_count": 38,
     "metadata": {},
     "output_type": "execute_result"
    }
   ],
   "source": [
    "\"\"\"This approach (encoding  multilabel as one-hots directly in dataframe) was dropped due to need of flattening features\n",
    "   after preprocessing (which made code unnecessarily long) and, which is more important, due to lack of tracking which\n",
    "   model coefficient is connected to which feature name. I'm not deleting the code since task description specified to\n",
    "   leave even finaly unused solutions :) \"\"\"\n",
    "\n",
    "\n",
    "# def get_unique_values_dict(column): \n",
    "#     unique_values_list = column.apply(pd.Series).stack().unique().tolist()\n",
    "#     unique_values_dict = {value: index for index, value in enumerate(unique_values_list)}\n",
    "#     return unique_values_dict\n",
    "    \n",
    "# def create_one_hot_representation(values, unique_values_dict):\n",
    "#     one_hot = len(unique_values_dict) * [0]\n",
    "#     for value in values:\n",
    "#         one_hot[unique_values_dict[value]] = 1\n",
    "#     return one_hot    \n",
    "\n",
    "# multilabel_columns = ['system operacyjny', 'sterowanie', 'multimedia', 'komunikacja']\n",
    "\n",
    "# for column in multilabel_columns: \n",
    "\n",
    "\n",
    "#     unique_values_dict = get_unique_values_dict(df[column])\n",
    "#     df[column] = df[column].apply(lambda d: d if isinstance(d, list) else [])  # fill NaN values with empty lists\n",
    "#     df[column] = df[column].apply(lambda row: create_one_hot_representation(row, unique_values_dict))"
   ]
  },
  {
   "cell_type": "code",
   "execution_count": 41,
   "metadata": {},
   "outputs": [],
   "source": [
    "def preprocess(df):\n",
    "    \"\"\"Preprocesses variables and returns new DataFrame. Information about particular solutions in comments. \"\"\"\n",
    "    \n",
    "    # Unpack multilabel columns tags into their own columns, it will allow us to deal will \n",
    "    # categorical variables by converting them into one-hot representations via pd.get_dummies function.\n",
    "    # It would also enable us to easily track coefficients values during model training. \n",
    "    \n",
    "    multilabel_columns = ['system operacyjny', 'sterowanie', 'multimedia', 'komunikacja']\n",
    "\n",
    "    for column in multilabel_columns: \n",
    "        tags = df[column].apply(pd.Series)\n",
    "        tags = tags.rename(columns = lambda x : 'tag ' + column + ' ' + str(x))\n",
    "        df = pd.concat([df[:], tags[:]], axis=1)\n",
    "        df = df.drop(column, axis=1)\n",
    "        \n",
    "    # Convert RAM memory capacity into bytes representation in order to make it real valued instead of discrete.\n",
    "    # This will blow up variables size, but we can deal with it later on with min-max scaling. \n",
    "\n",
    "    def convert_to_bytes(memory_capacity): \n",
    "        prefix_dict = {'mb': 1000000, 'gb': 1000000000}\n",
    "        try:\n",
    "            memory, prefix = memory_capacity.split()\n",
    "        except ValueError:\n",
    "            print(memory_capacity)\n",
    "        return int(memory) * prefix_dict[prefix]\n",
    "\n",
    "    df['wielkość pamięci ram'] = df['wielkość pamięci ram'].fillna('0 gb')  # For now fill NaN values with zeros\n",
    "    df['wielkość pamięci ram'] = df['wielkość pamięci ram'].apply(lambda row: convert_to_bytes(row))\n",
    "\n",
    "    # Similar approach to the previous one - convert resolution format into pixels number for real valued\n",
    "    # representation. \n",
    "    \n",
    "    def get_pixels_number(resolution): \n",
    "        try:\n",
    "            width, _, heigth = resolution.split()\n",
    "        except ValueError:\n",
    "            print(resolution)\n",
    "        return int(width) * int(heigth)\n",
    "\n",
    "    df['rozdzielczość (piksele)'] = df['rozdzielczość (piksele)'].fillna('inna')\n",
    "    # Once again, let's fill temporarly \"inna\" value with zeros: \n",
    "    df.loc[df['rozdzielczość (piksele)'] == 'inna', 'rozdzielczość (piksele)'] = '0 x 0' \n",
    "    df['rozdzielczość (piksele)'] = df['rozdzielczość (piksele)'].apply(lambda row: get_pixels_number(row))\n",
    "\n",
    "    # Change \"nie dotyczy\" value to zero:\n",
    "    df.loc[df['liczba rdzeni procesora'] == 'nie dotyczy', 'liczba rdzeni procesora'] = 0\n",
    "\n",
    "    # Convert numerical values into floats, fill NaNs and zero values with variables distribution mean:\n",
    "    numerical_columns = ['liczba rdzeni procesora', 'taktowanie bazowe procesora (ghz)', 'pojemność dysku (gb)', \n",
    "                         'rozdzielczość (piksele)', 'wielkość pamięci ram']\n",
    "    df[numerical_columns] = df[numerical_columns].astype(np.float64)\n",
    "\n",
    "    for column in numerical_columns: \n",
    "        df[column] = df[column].fillna(0.0)\n",
    "        df[column] = df[column].mask(df[column] == 0.0, df[column].mean())\n",
    "\n",
    "    # All we're left with are discrete values, let's create one-hot representations of them:\n",
    "    categorical_columns = df.select_dtypes(include=[\"object\"]).columns\n",
    "    df = pd.get_dummies(df, columns=categorical_columns, dtype=np.float64)\n",
    "    \n",
    "    return df.values"
   ]
  },
  {
   "cell_type": "markdown",
   "metadata": {},
   "source": [
    "<b>Model training:</b>\n",
    "    \n",
    "I'm going to measure my errors with three metrics: MSE, RMSE and R-squared. RMSE will be useful to check for outliers errors, which I predict will be the biggest issue, since the prices distribution is quite skewed. \n",
    "\n",
    "Since our feature space is rather big I'm concerned about overfitting to some variables, which I will try to handle by analyzing coefficients magnitude and by using Lasso and Ridge regression algorithm (to penalize big coefficient with L1 and L2 regularization techniques). \n",
    "\n",
    "To adress the same issue of big feature space and possibility of overfitting, I'm going to finaly use some tree based boosting algorithm, one reason being they're simply more powerful and often outperform other techniques and second reason being their ability to rank features in terms of their importance. "
   ]
  },
  {
   "cell_type": "code",
   "execution_count": 53,
   "metadata": {},
   "outputs": [],
   "source": [
    "# Scale features and split dataset into train and test sets:\n",
    "from sklearn.preprocessing import MinMaxScaler\n",
    "\n",
    "X, y = preprocess(df.drop('buynow_price', axis=1)), df['buynow_price'].astype(np.float64).values\n",
    "\n",
    "scaler = MinMaxScaler()\n",
    "X = scaler.fit_transform(X)\n",
    "\n",
    "split = int(0.8 * X.shape[0])\n",
    "X_train, X_test = X[:split], X[split:]\n",
    "y_train, y_test = y[:split], y[split:]"
   ]
  },
  {
   "cell_type": "code",
   "execution_count": 58,
   "metadata": {},
   "outputs": [],
   "source": [
    "from sklearn.linear_model import LinearRegression, LassoCV, RidgeCV,  ElasticNetCV\n",
    "from sklearn.ensemble import GradientBoostingRegressor\n",
    "from sklearn.metrics import mean_squared_error"
   ]
  },
  {
   "cell_type": "code",
   "execution_count": 92,
   "metadata": {},
   "outputs": [
    {
     "name": "stdout",
     "output_type": "stream",
     "text": [
      "LinearRegression(copy_X=True, fit_intercept=True, n_jobs=None, normalize=True) \n",
      "\n",
      "LassoCV(alphas=None, copy_X=True, cv=5, eps=0.001, fit_intercept=True,\n",
      "    max_iter=1000, n_alphas=100, n_jobs=None, normalize=True,\n",
      "    positive=False, precompute='auto', random_state=None,\n",
      "    selection='cyclic', tol=0.0001, verbose=False) \n",
      "\n",
      "RidgeCV(alphas=array([ 0.1,  1. , 10. ]), cv=5, fit_intercept=True,\n",
      "    gcv_mode=None, normalize=True, scoring=None, store_cv_values=False) \n",
      "\n",
      "ElasticNetCV(alphas=None, copy_X=True, cv=5, eps=0.001, fit_intercept=True,\n",
      "       l1_ratio=0.5, max_iter=1000, n_alphas=100, n_jobs=None,\n",
      "       normalize=True, positive=False, precompute='auto',\n",
      "       random_state=None, selection='cyclic', tol=0.0001, verbose=0) \n",
      "\n",
      "GradientBoostingRegressor(alpha=0.9, criterion='friedman_mse', init=None,\n",
      "             learning_rate=0.1, loss='ls', max_depth=4, max_features=None,\n",
      "             max_leaf_nodes=None, min_impurity_decrease=0.0,\n",
      "             min_impurity_split=None, min_samples_leaf=1,\n",
      "             min_samples_split=2, min_weight_fraction_leaf=0.0,\n",
      "             n_estimators=100, n_iter_no_change=None, presort='auto',\n",
      "             random_state=None, subsample=1.0, tol=0.0001,\n",
      "             validation_fraction=0.1, verbose=0, warm_start=False) \n",
      "\n"
     ]
    }
   ],
   "source": [
    "Model = collections.namedtuple('Model', ['class_name', 'kwargs'])\n",
    "\n",
    "models = {'lreg': Model(LinearRegression, {'normalize': True}),\n",
    "          'lasso': Model(LassoCV, {'normalize': True, 'cv': 5}),\n",
    "          'ridge': Model(RidgeCV, {'normalize': True, 'cv': 5}),\n",
    "          'elastic': Model(ElasticNetCV, {'normalize': True, 'cv': 5}), \n",
    "          'GBR': Model(GradientBoostingRegressor, {'n_estimators': 100, 'max_depth': 4})}\n",
    "\n",
    "summary = {}\n",
    "\n",
    "def train_model(X_train, y_train, X_test, y_test, model_, name):\n",
    "    \"\"\"Trains model, makes predictions on testset, and returns summary as dictionary. \"\"\"\n",
    "    \n",
    "    model = model_.class_name(**model_.kwargs)\n",
    "    \n",
    "    print(model.fit(X_train, y_train), '\\n')\n",
    "    predictions = model.predict(X_test)\n",
    "    score = model.score(X_test, y_test)\n",
    "    mse = mean_squared_error(y_test, predictions)\n",
    "    rmse = math.sqrt(mse)\n",
    "    try:\n",
    "        coef = model.coef_\n",
    "    except AttributeError:  # exception for Gradient Boosting model which doesn't have coefficients\n",
    "        coef = model.feature_importances_\n",
    "\n",
    "    model_summary = {name: {'predictions': predictions,\n",
    "                            'R-squared': score, \n",
    "                            'MSE': mse, \n",
    "                            'RMSE': rmse,\n",
    "                            'coefficients': coef\n",
    "                           }}\n",
    "    \n",
    "    return model_summary\n",
    "\n",
    "# Train models and gather summaries:\n",
    "for model_name in models.keys(): \n",
    "    model = models[model_name]\n",
    "    model_summary = train_model(X_train, y_train, X_test, y_test, model, model_name) \n",
    "    summary = {**model_summary, **summary}"
   ]
  },
  {
   "cell_type": "code",
   "execution_count": 93,
   "metadata": {},
   "outputs": [
    {
     "data": {
      "text/html": [
       "<div>\n",
       "<style scoped>\n",
       "    .dataframe tbody tr th:only-of-type {\n",
       "        vertical-align: middle;\n",
       "    }\n",
       "\n",
       "    .dataframe tbody tr th {\n",
       "        vertical-align: top;\n",
       "    }\n",
       "\n",
       "    .dataframe thead th {\n",
       "        text-align: right;\n",
       "    }\n",
       "</style>\n",
       "<table border=\"1\" class=\"dataframe\">\n",
       "  <thead>\n",
       "    <tr style=\"text-align: right;\">\n",
       "      <th></th>\n",
       "      <th>GBR</th>\n",
       "      <th>elastic</th>\n",
       "      <th>ridge</th>\n",
       "      <th>lasso</th>\n",
       "      <th>lreg</th>\n",
       "    </tr>\n",
       "  </thead>\n",
       "  <tbody>\n",
       "    <tr>\n",
       "      <th>MSE</th>\n",
       "      <td>411656</td>\n",
       "      <td>2.8031e+06</td>\n",
       "      <td>799413</td>\n",
       "      <td>791703</td>\n",
       "      <td>9.90164e+26</td>\n",
       "    </tr>\n",
       "    <tr>\n",
       "      <th>R-squared</th>\n",
       "      <td>0.865842</td>\n",
       "      <td>0.0864745</td>\n",
       "      <td>0.739473</td>\n",
       "      <td>0.741985</td>\n",
       "      <td>-3.22693e+20</td>\n",
       "    </tr>\n",
       "    <tr>\n",
       "      <th>RMSE</th>\n",
       "      <td>641.604</td>\n",
       "      <td>1674.25</td>\n",
       "      <td>894.099</td>\n",
       "      <td>889.777</td>\n",
       "      <td>3.14669e+13</td>\n",
       "    </tr>\n",
       "  </tbody>\n",
       "</table>\n",
       "</div>"
      ],
      "text/plain": [
       "                GBR     elastic     ridge     lasso         lreg\n",
       "MSE          411656  2.8031e+06    799413    791703  9.90164e+26\n",
       "R-squared  0.865842   0.0864745  0.739473  0.741985 -3.22693e+20\n",
       "RMSE        641.604     1674.25   894.099   889.777  3.14669e+13"
      ]
     },
     "execution_count": 93,
     "metadata": {},
     "output_type": "execute_result"
    }
   ],
   "source": [
    "scores_df = pd.DataFrame.from_dict(summary)\n",
    "scores_df = scores_df.drop(['coefficients', 'predictions'], axis=0)\n",
    "\n",
    "scores_df"
   ]
  },
  {
   "cell_type": "code",
   "execution_count": null,
   "metadata": {},
   "outputs": [],
   "source": [
    "scores_df = pd.DataFrame.from_dict({\n",
    "    'MSE': [lreg_mse, lasso_mse, ridge_mse, elastic_mse, GBR_mse],\n",
    "    'R^2': [lreg_score, lasso_score, ridge_score, elastic_score, GBR_score]\n",
    "}, orient='index', columns=['lreg', 'lasso', 'ridge', 'elastic', 'GBR'])"
   ]
  }
 ],
 "metadata": {
  "kernelspec": {
   "display_name": "env_3.6",
   "language": "python",
   "name": "env_3.6"
  },
  "language_info": {
   "codemirror_mode": {
    "name": "ipython",
    "version": 3
   },
   "file_extension": ".py",
   "mimetype": "text/x-python",
   "name": "python",
   "nbconvert_exporter": "python",
   "pygments_lexer": "ipython3",
   "version": "3.6.7"
  }
 },
 "nbformat": 4,
 "nbformat_minor": 2
}
